{
  "nbformat": 4,
  "nbformat_minor": 0,
  "metadata": {
    "colab": {
      "provenance": []
    },
    "kernelspec": {
      "name": "python3",
      "display_name": "Python 3"
    },
    "language_info": {
      "name": "python"
    }
  },
  "cells": [
    {
      "cell_type": "markdown",
      "source": [
        "# Importing Libraries"
      ],
      "metadata": {
        "id": "jgC2xr7wLQeU"
      }
    },
    {
      "cell_type": "code",
      "source": [
        "import pandas as pd\n",
        "import pyarrow.parquet as pa\n",
        "import numpy as np\n",
        "from sklearn.model_selection import train_test_split\n",
        "from sklearn.preprocessing import LabelEncoder\n",
        "import time\n",
        "from sklearn.tree import DecisionTreeClassifier\n",
        "from sklearn.ensemble import RandomForestClassifier\n",
        "import xgboost as xgb\n",
        "from sklearn.metrics import accuracy_score, precision_score, recall_score, f1_score, roc_curve, auc\n",
        "import matplotlib.pyplot as plt\n",
        "from sklearn.calibration import calibration_curve"
      ],
      "metadata": {
        "id": "EfPDg0UpRZM8"
      },
      "execution_count": null,
      "outputs": []
    },
    {
      "cell_type": "markdown",
      "source": [
        "# Importing Dataset"
      ],
      "metadata": {
        "id": "I567D9aaLVQx"
      }
    },
    {
      "cell_type": "code",
      "source": [
        "!mkdir -p ~/.kaggle\n",
        "!cp kaggle.json ~/.kaggle/"
      ],
      "metadata": {
        "id": "kXbLE17pUuEJ",
        "colab": {
          "base_uri": "https://localhost:8080/"
        },
        "outputId": "f696fdda-0970-49e4-f551-45fc30cf6e70"
      },
      "execution_count": null,
      "outputs": [
        {
          "output_type": "stream",
          "name": "stdout",
          "text": [
            "cp: cannot stat 'kaggle.json': No such file or directory\n"
          ]
        }
      ]
    },
    {
      "cell_type": "code",
      "source": [
        "!kaggle datasets download -d dhoogla/cicids2017"
      ],
      "metadata": {
        "colab": {
          "base_uri": "https://localhost:8080/"
        },
        "id": "d2T5-LZIV8kv",
        "outputId": "bb814076-5b22-4030-b943-a66f8dc21dbd"
      },
      "execution_count": null,
      "outputs": [
        {
          "output_type": "stream",
          "name": "stdout",
          "text": [
            "Dataset URL: https://www.kaggle.com/datasets/dhoogla/cicids2017\n",
            "License(s): CC-BY-NC-SA-4.0\n",
            "Downloading cicids2017.zip to /content\n",
            "100% 227M/227M [00:03<00:00, 82.3MB/s]\n",
            "100% 227M/227M [00:03<00:00, 66.1MB/s]\n"
          ]
        }
      ]
    },
    {
      "cell_type": "code",
      "source": [
        "import zipfile\n",
        "zip_ref = zipfile.ZipFile('/content/cicids2017.zip', 'r')\n",
        "zip_ref.extractall('/content')\n",
        "zip_ref.close()"
      ],
      "metadata": {
        "id": "sxF0DVaYWM02"
      },
      "execution_count": null,
      "outputs": []
    },
    {
      "cell_type": "code",
      "source": [
        "df_data_1 = pd.read_parquet('/content/Benign-Monday-no-metadata.parquet')\n",
        "df_data_2 = pd.read_parquet('/content/Botnet-Friday-no-metadata.parquet')\n",
        "df_data_3 = pd.read_parquet('/content/Bruteforce-Tuesday-no-metadata.parquet')\n",
        "df_data_4 = pd.read_parquet('/content/DDoS-Friday-no-metadata.parquet')\n",
        "df_data_5 = pd.read_parquet('/content/DoS-Wednesday-no-metadata.parquet')\n",
        "df_data_6 = pd.read_parquet('/content/Infiltration-Thursday-no-metadata.parquet')\n",
        "df_data_7 = pd.read_parquet('/content/Portscan-Friday-no-metadata.parquet')\n",
        "df_data_8 = pd.read_parquet('/content/WebAttacks-Thursday-no-metadata.parquet')"
      ],
      "metadata": {
        "id": "BL0k0r2raqRm"
      },
      "execution_count": null,
      "outputs": []
    },
    {
      "cell_type": "code",
      "source": [
        "df_data = pd.concat([df_data_1, df_data_2, df_data_3, df_data_4,\n",
        "                     df_data_5, df_data_6, df_data_7, df_data_8], axis=0, ignore_index=True)"
      ],
      "metadata": {
        "id": "vIz6nw1-a7Dv"
      },
      "execution_count": null,
      "outputs": []
    },
    {
      "cell_type": "code",
      "source": [
        "df_data.shape"
      ],
      "metadata": {
        "colab": {
          "base_uri": "https://localhost:8080/"
        },
        "id": "aniEtoqdc06i",
        "outputId": "01d8dd90-deb2-4427-8ade-8d73048100bf"
      },
      "execution_count": null,
      "outputs": [
        {
          "output_type": "execute_result",
          "data": {
            "text/plain": [
              "(2313810, 78)"
            ]
          },
          "metadata": {},
          "execution_count": 7
        }
      ]
    },
    {
      "cell_type": "code",
      "source": [
        "df_data['Label'].value_counts()"
      ],
      "metadata": {
        "id": "YFSgsTMbXyYs",
        "outputId": "4b60ee09-e62d-439a-c0a1-15cfe9dc8274",
        "colab": {
          "base_uri": "https://localhost:8080/",
          "height": 585
        }
      },
      "execution_count": null,
      "outputs": [
        {
          "output_type": "execute_result",
          "data": {
            "text/plain": [
              "Label\n",
              "Benign                        1977318\n",
              "DoS Hulk                       172846\n",
              "DDoS                           128014\n",
              "DoS GoldenEye                   10286\n",
              "FTP-Patator                      5931\n",
              "DoS slowloris                    5385\n",
              "DoS Slowhttptest                 5228\n",
              "SSH-Patator                      3219\n",
              "PortScan                         1956\n",
              "Web Attack � Brute Force         1470\n",
              "Bot                              1437\n",
              "Web Attack � XSS                  652\n",
              "Infiltration                       36\n",
              "Web Attack � Sql Injection         21\n",
              "Heartbleed                         11\n",
              "Name: count, dtype: int64"
            ],
            "text/html": [
              "<div>\n",
              "<style scoped>\n",
              "    .dataframe tbody tr th:only-of-type {\n",
              "        vertical-align: middle;\n",
              "    }\n",
              "\n",
              "    .dataframe tbody tr th {\n",
              "        vertical-align: top;\n",
              "    }\n",
              "\n",
              "    .dataframe thead th {\n",
              "        text-align: right;\n",
              "    }\n",
              "</style>\n",
              "<table border=\"1\" class=\"dataframe\">\n",
              "  <thead>\n",
              "    <tr style=\"text-align: right;\">\n",
              "      <th></th>\n",
              "      <th>count</th>\n",
              "    </tr>\n",
              "    <tr>\n",
              "      <th>Label</th>\n",
              "      <th></th>\n",
              "    </tr>\n",
              "  </thead>\n",
              "  <tbody>\n",
              "    <tr>\n",
              "      <th>Benign</th>\n",
              "      <td>1977318</td>\n",
              "    </tr>\n",
              "    <tr>\n",
              "      <th>DoS Hulk</th>\n",
              "      <td>172846</td>\n",
              "    </tr>\n",
              "    <tr>\n",
              "      <th>DDoS</th>\n",
              "      <td>128014</td>\n",
              "    </tr>\n",
              "    <tr>\n",
              "      <th>DoS GoldenEye</th>\n",
              "      <td>10286</td>\n",
              "    </tr>\n",
              "    <tr>\n",
              "      <th>FTP-Patator</th>\n",
              "      <td>5931</td>\n",
              "    </tr>\n",
              "    <tr>\n",
              "      <th>DoS slowloris</th>\n",
              "      <td>5385</td>\n",
              "    </tr>\n",
              "    <tr>\n",
              "      <th>DoS Slowhttptest</th>\n",
              "      <td>5228</td>\n",
              "    </tr>\n",
              "    <tr>\n",
              "      <th>SSH-Patator</th>\n",
              "      <td>3219</td>\n",
              "    </tr>\n",
              "    <tr>\n",
              "      <th>PortScan</th>\n",
              "      <td>1956</td>\n",
              "    </tr>\n",
              "    <tr>\n",
              "      <th>Web Attack � Brute Force</th>\n",
              "      <td>1470</td>\n",
              "    </tr>\n",
              "    <tr>\n",
              "      <th>Bot</th>\n",
              "      <td>1437</td>\n",
              "    </tr>\n",
              "    <tr>\n",
              "      <th>Web Attack � XSS</th>\n",
              "      <td>652</td>\n",
              "    </tr>\n",
              "    <tr>\n",
              "      <th>Infiltration</th>\n",
              "      <td>36</td>\n",
              "    </tr>\n",
              "    <tr>\n",
              "      <th>Web Attack � Sql Injection</th>\n",
              "      <td>21</td>\n",
              "    </tr>\n",
              "    <tr>\n",
              "      <th>Heartbleed</th>\n",
              "      <td>11</td>\n",
              "    </tr>\n",
              "  </tbody>\n",
              "</table>\n",
              "</div><br><label><b>dtype:</b> int64</label>"
            ]
          },
          "metadata": {},
          "execution_count": 8
        }
      ]
    },
    {
      "cell_type": "code",
      "source": [
        "df_data['Label'].unique()"
      ],
      "metadata": {
        "colab": {
          "base_uri": "https://localhost:8080/"
        },
        "id": "EsvFEnefXwVG",
        "outputId": "8bbb98e2-b9c9-449f-d159-9744347b10f7"
      },
      "execution_count": null,
      "outputs": [
        {
          "output_type": "execute_result",
          "data": {
            "text/plain": [
              "array(['Benign', 'Bot', 'FTP-Patator', 'SSH-Patator', 'DDoS',\n",
              "       'DoS slowloris', 'DoS Slowhttptest', 'DoS Hulk', 'DoS GoldenEye',\n",
              "       'Heartbleed', 'Infiltration', 'PortScan',\n",
              "       'Web Attack � Brute Force', 'Web Attack � XSS',\n",
              "       'Web Attack � Sql Injection'], dtype=object)"
            ]
          },
          "metadata": {},
          "execution_count": 9
        }
      ]
    },
    {
      "cell_type": "markdown",
      "source": [
        "# Data Undersampling\n"
      ],
      "metadata": {
        "id": "cYXtVrPmlCx5"
      }
    },
    {
      "cell_type": "code",
      "source": [
        "df_data.columns"
      ],
      "metadata": {
        "colab": {
          "base_uri": "https://localhost:8080/"
        },
        "id": "WoHCVT1HlBRt",
        "outputId": "a25bc4e2-e443-4281-b29a-302e7f60c06c"
      },
      "execution_count": null,
      "outputs": [
        {
          "output_type": "execute_result",
          "data": {
            "text/plain": [
              "Index(['Protocol', 'Flow Duration', 'Total Fwd Packets',\n",
              "       'Total Backward Packets', 'Fwd Packets Length Total',\n",
              "       'Bwd Packets Length Total', 'Fwd Packet Length Max',\n",
              "       'Fwd Packet Length Min', 'Fwd Packet Length Mean',\n",
              "       'Fwd Packet Length Std', 'Bwd Packet Length Max',\n",
              "       'Bwd Packet Length Min', 'Bwd Packet Length Mean',\n",
              "       'Bwd Packet Length Std', 'Flow Bytes/s', 'Flow Packets/s',\n",
              "       'Flow IAT Mean', 'Flow IAT Std', 'Flow IAT Max', 'Flow IAT Min',\n",
              "       'Fwd IAT Total', 'Fwd IAT Mean', 'Fwd IAT Std', 'Fwd IAT Max',\n",
              "       'Fwd IAT Min', 'Bwd IAT Total', 'Bwd IAT Mean', 'Bwd IAT Std',\n",
              "       'Bwd IAT Max', 'Bwd IAT Min', 'Fwd PSH Flags', 'Bwd PSH Flags',\n",
              "       'Fwd URG Flags', 'Bwd URG Flags', 'Fwd Header Length',\n",
              "       'Bwd Header Length', 'Fwd Packets/s', 'Bwd Packets/s',\n",
              "       'Packet Length Min', 'Packet Length Max', 'Packet Length Mean',\n",
              "       'Packet Length Std', 'Packet Length Variance', 'FIN Flag Count',\n",
              "       'SYN Flag Count', 'RST Flag Count', 'PSH Flag Count', 'ACK Flag Count',\n",
              "       'URG Flag Count', 'CWE Flag Count', 'ECE Flag Count', 'Down/Up Ratio',\n",
              "       'Avg Packet Size', 'Avg Fwd Segment Size', 'Avg Bwd Segment Size',\n",
              "       'Fwd Avg Bytes/Bulk', 'Fwd Avg Packets/Bulk', 'Fwd Avg Bulk Rate',\n",
              "       'Bwd Avg Bytes/Bulk', 'Bwd Avg Packets/Bulk', 'Bwd Avg Bulk Rate',\n",
              "       'Subflow Fwd Packets', 'Subflow Fwd Bytes', 'Subflow Bwd Packets',\n",
              "       'Subflow Bwd Bytes', 'Init Fwd Win Bytes', 'Init Bwd Win Bytes',\n",
              "       'Fwd Act Data Packets', 'Fwd Seg Size Min', 'Active Mean', 'Active Std',\n",
              "       'Active Max', 'Active Min', 'Idle Mean', 'Idle Std', 'Idle Max',\n",
              "       'Idle Min', 'Label'],\n",
              "      dtype='object')"
            ]
          },
          "metadata": {},
          "execution_count": 10
        }
      ]
    },
    {
      "cell_type": "code",
      "source": [
        "benign_total = len(df_data[df_data['Label'] == \"Benign\"])\n",
        "benign_total"
      ],
      "metadata": {
        "colab": {
          "base_uri": "https://localhost:8080/"
        },
        "id": "WqtIYDODl6Y5",
        "outputId": "a4cba561-9373-426d-aa25-29f1b91ff76d"
      },
      "execution_count": null,
      "outputs": [
        {
          "output_type": "execute_result",
          "data": {
            "text/plain": [
              "1977318"
            ]
          },
          "metadata": {},
          "execution_count": 11
        }
      ]
    },
    {
      "cell_type": "code",
      "source": [
        "attack_total = len(df_data[df_data['Label'] != \"Benign\"])\n",
        "attack_total"
      ],
      "metadata": {
        "colab": {
          "base_uri": "https://localhost:8080/"
        },
        "id": "nqKfV9YjnJcf",
        "outputId": "f2037830-00b5-42c3-e6ee-a596972d8daa"
      },
      "execution_count": null,
      "outputs": [
        {
          "output_type": "execute_result",
          "data": {
            "text/plain": [
              "336492"
            ]
          },
          "metadata": {},
          "execution_count": 12
        }
      ]
    },
    {
      "cell_type": "code",
      "source": [
        "enlargement = 1.1\n",
        "benign_included_max = attack_total / 30 * 70\n",
        "benign_inc_probability = (benign_included_max / benign_total) * enlargement\n",
        "print(benign_included_max, benign_inc_probability)"
      ],
      "metadata": {
        "colab": {
          "base_uri": "https://localhost:8080/"
        },
        "id": "2NuPDQbHnqiQ",
        "outputId": "3be91a08-68ab-4ca9-95ae-538b01485332"
      },
      "execution_count": null,
      "outputs": [
        {
          "output_type": "stream",
          "name": "stdout",
          "text": [
            "785148.0 0.43678497844049363\n"
          ]
        }
      ]
    },
    {
      "cell_type": "code",
      "source": [
        "import random\n",
        "indexes = []\n",
        "benign_included_count = 0\n",
        "for index, row in df_data.iterrows():\n",
        "    if (row['Label'] != \"Benign\"):\n",
        "        indexes.append(index)\n",
        "    else:\n",
        "        # Copying with benign_inc_probability\n",
        "        if random.random() > benign_inc_probability: continue\n",
        "        # Have we achieved 70% (5087 records)?\n",
        "        if benign_included_count > benign_included_max: continue\n",
        "        benign_included_count += 1\n",
        "        indexes.append(index)\n",
        "df_balanced = df_data.loc[indexes]"
      ],
      "metadata": {
        "id": "HAv2STDIolQ1"
      },
      "execution_count": null,
      "outputs": []
    },
    {
      "cell_type": "code",
      "source": [
        "df_balanced['Label'].value_counts()"
      ],
      "metadata": {
        "colab": {
          "base_uri": "https://localhost:8080/",
          "height": 585
        },
        "id": "TzIWz2x9o2VC",
        "outputId": "8a8f2720-2f32-4313-c1ed-a627c0ad110e"
      },
      "execution_count": null,
      "outputs": [
        {
          "output_type": "execute_result",
          "data": {
            "text/plain": [
              "Label\n",
              "Benign                        785149\n",
              "DoS Hulk                      172846\n",
              "DDoS                          128014\n",
              "DoS GoldenEye                  10286\n",
              "FTP-Patator                     5931\n",
              "DoS slowloris                   5385\n",
              "DoS Slowhttptest                5228\n",
              "SSH-Patator                     3219\n",
              "PortScan                        1956\n",
              "Web Attack � Brute Force        1470\n",
              "Bot                             1437\n",
              "Web Attack � XSS                 652\n",
              "Infiltration                      36\n",
              "Web Attack � Sql Injection        21\n",
              "Heartbleed                        11\n",
              "Name: count, dtype: int64"
            ],
            "text/html": [
              "<div>\n",
              "<style scoped>\n",
              "    .dataframe tbody tr th:only-of-type {\n",
              "        vertical-align: middle;\n",
              "    }\n",
              "\n",
              "    .dataframe tbody tr th {\n",
              "        vertical-align: top;\n",
              "    }\n",
              "\n",
              "    .dataframe thead th {\n",
              "        text-align: right;\n",
              "    }\n",
              "</style>\n",
              "<table border=\"1\" class=\"dataframe\">\n",
              "  <thead>\n",
              "    <tr style=\"text-align: right;\">\n",
              "      <th></th>\n",
              "      <th>count</th>\n",
              "    </tr>\n",
              "    <tr>\n",
              "      <th>Label</th>\n",
              "      <th></th>\n",
              "    </tr>\n",
              "  </thead>\n",
              "  <tbody>\n",
              "    <tr>\n",
              "      <th>Benign</th>\n",
              "      <td>785149</td>\n",
              "    </tr>\n",
              "    <tr>\n",
              "      <th>DoS Hulk</th>\n",
              "      <td>172846</td>\n",
              "    </tr>\n",
              "    <tr>\n",
              "      <th>DDoS</th>\n",
              "      <td>128014</td>\n",
              "    </tr>\n",
              "    <tr>\n",
              "      <th>DoS GoldenEye</th>\n",
              "      <td>10286</td>\n",
              "    </tr>\n",
              "    <tr>\n",
              "      <th>FTP-Patator</th>\n",
              "      <td>5931</td>\n",
              "    </tr>\n",
              "    <tr>\n",
              "      <th>DoS slowloris</th>\n",
              "      <td>5385</td>\n",
              "    </tr>\n",
              "    <tr>\n",
              "      <th>DoS Slowhttptest</th>\n",
              "      <td>5228</td>\n",
              "    </tr>\n",
              "    <tr>\n",
              "      <th>SSH-Patator</th>\n",
              "      <td>3219</td>\n",
              "    </tr>\n",
              "    <tr>\n",
              "      <th>PortScan</th>\n",
              "      <td>1956</td>\n",
              "    </tr>\n",
              "    <tr>\n",
              "      <th>Web Attack � Brute Force</th>\n",
              "      <td>1470</td>\n",
              "    </tr>\n",
              "    <tr>\n",
              "      <th>Bot</th>\n",
              "      <td>1437</td>\n",
              "    </tr>\n",
              "    <tr>\n",
              "      <th>Web Attack � XSS</th>\n",
              "      <td>652</td>\n",
              "    </tr>\n",
              "    <tr>\n",
              "      <th>Infiltration</th>\n",
              "      <td>36</td>\n",
              "    </tr>\n",
              "    <tr>\n",
              "      <th>Web Attack � Sql Injection</th>\n",
              "      <td>21</td>\n",
              "    </tr>\n",
              "    <tr>\n",
              "      <th>Heartbleed</th>\n",
              "      <td>11</td>\n",
              "    </tr>\n",
              "  </tbody>\n",
              "</table>\n",
              "</div><br><label><b>dtype:</b> int64</label>"
            ]
          },
          "metadata": {},
          "execution_count": 15
        }
      ]
    },
    {
      "cell_type": "code",
      "source": [
        "benign_total_new = len(df_balanced[df_balanced['Label'] == \"Benign\"])\n",
        "benign_total_new"
      ],
      "metadata": {
        "id": "Xk3Lw_lEs8Lu",
        "colab": {
          "base_uri": "https://localhost:8080/"
        },
        "outputId": "5e2f32eb-dcf6-42e4-f58f-a8cb792c5597"
      },
      "execution_count": null,
      "outputs": [
        {
          "output_type": "execute_result",
          "data": {
            "text/plain": [
              "785149"
            ]
          },
          "metadata": {},
          "execution_count": 16
        }
      ]
    },
    {
      "cell_type": "code",
      "source": [
        "attack_total_new = len(df_balanced[df_balanced['Label'] != \"Benign\"])\n",
        "attack_total_new"
      ],
      "metadata": {
        "id": "TpU3G_RHtEee",
        "colab": {
          "base_uri": "https://localhost:8080/"
        },
        "outputId": "32c6bc15-3534-4eb3-fa64-99d3f7af4dcb"
      },
      "execution_count": null,
      "outputs": [
        {
          "output_type": "execute_result",
          "data": {
            "text/plain": [
              "336492"
            ]
          },
          "metadata": {},
          "execution_count": 17
        }
      ]
    },
    {
      "cell_type": "code",
      "source": [
        "benign_total = len(df_data[df_data['Label'] == \"Benign\"])\n",
        "benign_total"
      ],
      "metadata": {
        "colab": {
          "base_uri": "https://localhost:8080/"
        },
        "id": "_u0B_YcQtJ0V",
        "outputId": "3e5e193c-5489-4b9d-f82b-e3b4c8cfa46c"
      },
      "execution_count": null,
      "outputs": [
        {
          "output_type": "execute_result",
          "data": {
            "text/plain": [
              "1977318"
            ]
          },
          "metadata": {},
          "execution_count": 18
        }
      ]
    },
    {
      "cell_type": "code",
      "source": [
        "attack_total = len(df_data[df_data['Label'] != \"Benign\"])\n",
        "attack_total"
      ],
      "metadata": {
        "colab": {
          "base_uri": "https://localhost:8080/"
        },
        "id": "iHTo72t_tLP6",
        "outputId": "bf1be200-b78d-44b6-a4d6-69bf3419c14a"
      },
      "execution_count": null,
      "outputs": [
        {
          "output_type": "execute_result",
          "data": {
            "text/plain": [
              "336492"
            ]
          },
          "metadata": {},
          "execution_count": 19
        }
      ]
    },
    {
      "cell_type": "code",
      "source": [
        "df_data['Label'].value_counts()"
      ],
      "metadata": {
        "colab": {
          "base_uri": "https://localhost:8080/",
          "height": 585
        },
        "id": "swR3CFG7sz5d",
        "outputId": "436c939a-b264-41fc-e6b4-84411aa10150"
      },
      "execution_count": null,
      "outputs": [
        {
          "output_type": "execute_result",
          "data": {
            "text/plain": [
              "Label\n",
              "Benign                        1977318\n",
              "DoS Hulk                       172846\n",
              "DDoS                           128014\n",
              "DoS GoldenEye                   10286\n",
              "FTP-Patator                      5931\n",
              "DoS slowloris                    5385\n",
              "DoS Slowhttptest                 5228\n",
              "SSH-Patator                      3219\n",
              "PortScan                         1956\n",
              "Web Attack � Brute Force         1470\n",
              "Bot                              1437\n",
              "Web Attack � XSS                  652\n",
              "Infiltration                       36\n",
              "Web Attack � Sql Injection         21\n",
              "Heartbleed                         11\n",
              "Name: count, dtype: int64"
            ],
            "text/html": [
              "<div>\n",
              "<style scoped>\n",
              "    .dataframe tbody tr th:only-of-type {\n",
              "        vertical-align: middle;\n",
              "    }\n",
              "\n",
              "    .dataframe tbody tr th {\n",
              "        vertical-align: top;\n",
              "    }\n",
              "\n",
              "    .dataframe thead th {\n",
              "        text-align: right;\n",
              "    }\n",
              "</style>\n",
              "<table border=\"1\" class=\"dataframe\">\n",
              "  <thead>\n",
              "    <tr style=\"text-align: right;\">\n",
              "      <th></th>\n",
              "      <th>count</th>\n",
              "    </tr>\n",
              "    <tr>\n",
              "      <th>Label</th>\n",
              "      <th></th>\n",
              "    </tr>\n",
              "  </thead>\n",
              "  <tbody>\n",
              "    <tr>\n",
              "      <th>Benign</th>\n",
              "      <td>1977318</td>\n",
              "    </tr>\n",
              "    <tr>\n",
              "      <th>DoS Hulk</th>\n",
              "      <td>172846</td>\n",
              "    </tr>\n",
              "    <tr>\n",
              "      <th>DDoS</th>\n",
              "      <td>128014</td>\n",
              "    </tr>\n",
              "    <tr>\n",
              "      <th>DoS GoldenEye</th>\n",
              "      <td>10286</td>\n",
              "    </tr>\n",
              "    <tr>\n",
              "      <th>FTP-Patator</th>\n",
              "      <td>5931</td>\n",
              "    </tr>\n",
              "    <tr>\n",
              "      <th>DoS slowloris</th>\n",
              "      <td>5385</td>\n",
              "    </tr>\n",
              "    <tr>\n",
              "      <th>DoS Slowhttptest</th>\n",
              "      <td>5228</td>\n",
              "    </tr>\n",
              "    <tr>\n",
              "      <th>SSH-Patator</th>\n",
              "      <td>3219</td>\n",
              "    </tr>\n",
              "    <tr>\n",
              "      <th>PortScan</th>\n",
              "      <td>1956</td>\n",
              "    </tr>\n",
              "    <tr>\n",
              "      <th>Web Attack � Brute Force</th>\n",
              "      <td>1470</td>\n",
              "    </tr>\n",
              "    <tr>\n",
              "      <th>Bot</th>\n",
              "      <td>1437</td>\n",
              "    </tr>\n",
              "    <tr>\n",
              "      <th>Web Attack � XSS</th>\n",
              "      <td>652</td>\n",
              "    </tr>\n",
              "    <tr>\n",
              "      <th>Infiltration</th>\n",
              "      <td>36</td>\n",
              "    </tr>\n",
              "    <tr>\n",
              "      <th>Web Attack � Sql Injection</th>\n",
              "      <td>21</td>\n",
              "    </tr>\n",
              "    <tr>\n",
              "      <th>Heartbleed</th>\n",
              "      <td>11</td>\n",
              "    </tr>\n",
              "  </tbody>\n",
              "</table>\n",
              "</div><br><label><b>dtype:</b> int64</label>"
            ]
          },
          "metadata": {},
          "execution_count": 20
        }
      ]
    },
    {
      "cell_type": "code",
      "source": [
        "df_balanced.to_csv(\"web_attacks_balanced.csv\", index=False)"
      ],
      "metadata": {
        "id": "pTz9KHxdibZD"
      },
      "execution_count": null,
      "outputs": []
    },
    {
      "cell_type": "markdown",
      "source": [
        "# Model Training"
      ],
      "metadata": {
        "id": "ZjD5N4fiv0O2"
      }
    },
    {
      "cell_type": "code",
      "source": [
        "# Load dataset\n",
        "data = pd.read_csv('web_attacks_balanced.csv')\n",
        "data = data.dropna()\n",
        "\n",
        "# Create a new binary target column: 1 for Web Attack, 0 for Benign\n",
        "data['target_binary'] = data['Label'].apply(lambda x: 0 if x == 'Benign' else 1)\n",
        "\n",
        "# Split the data into features and target\n",
        "X = data.drop(columns=['Label', 'target_binary'])\n",
        "y = data['target_binary']\n",
        "\n",
        "# Split the dataset into 70% train and 30% test\n",
        "X_train, X_test, y_train, y_test = train_test_split(X, y, test_size=0.3, random_state=42, stratify=y)"
      ],
      "metadata": {
        "id": "qbvW4GLvv2kK"
      },
      "execution_count": null,
      "outputs": []
    },
    {
      "cell_type": "code",
      "source": [
        "def evaluate_model(model, X_test, y_test):\n",
        "    start_time = time.time()\n",
        "    y_pred = model.predict(X_test)\n",
        "    end_time = time.time()\n",
        "\n",
        "    accuracy = accuracy_score(y_test, y_pred)\n",
        "    precision = precision_score(y_test, y_pred, average='weighted')\n",
        "    recall = recall_score(y_test, y_pred, average='weighted')\n",
        "    f1 = f1_score(y_test, y_pred, average='weighted')\n",
        "    computing_time = end_time - start_time\n",
        "\n",
        "    fpr, tpr, _ = roc_curve(y_test, model.predict_proba(X_test)[:,1])\n",
        "    roc_auc = auc(fpr, tpr)\n",
        "\n",
        "    return accuracy, precision, recall, f1, computing_time, fpr, tpr, roc_auc\n",
        "\n",
        "# Initialize models\n",
        "decision_tree = DecisionTreeClassifier()\n",
        "random_forest = RandomForestClassifier()\n",
        "xgboost = xgb.XGBClassifier(use_label_encoder=False, eval_metric='logloss')\n",
        "\n",
        "# Train and evaluate Decision Tree\n",
        "decision_tree.fit(X_train, y_train)\n",
        "acc_dt, prec_dt, rec_dt, f1_dt, time_dt, fpr_dt, tpr_dt, roc_auc_dt = evaluate_model(decision_tree, X_test, y_test)\n",
        "\n",
        "# Train and evaluate Random Forest\n",
        "random_forest.fit(X_train, y_train)\n",
        "acc_rf, prec_rf, rec_rf, f1_rf, time_rf, fpr_rf, tpr_rf, roc_auc_rf = evaluate_model(random_forest, X_test, y_test)\n",
        "\n",
        "# Train and evaluate XGBoost\n",
        "xgboost.fit(X_train, y_train)\n",
        "acc_xgb, prec_xgb, rec_xgb, f1_xgb, time_xgb, fpr_xgb, tpr_xgb, roc_auc_xgb = evaluate_model(xgboost, X_test, y_test)\n",
        "\n",
        "# Print metrics\n",
        "print(f'Decision Tree: Accuracy={acc_dt:.8f}, Precision={prec_dt:.8f}, Recall={rec_dt:.8f}, F1 Score={f1_dt:.8f}, Time={time_dt:.8f}s')\n",
        "print(f'Random Forest: Accuracy={acc_rf:.8f}, Precision={prec_rf:.8f}, Recall={rec_rf:.8f}, F1 Score={f1_rf:.8f}, Time={time_rf:.8f}s')\n",
        "print(f'XGBoost: Accuracy={acc_xgb:.8f}, Precision={prec_xgb:.8f}, Recall={rec_xgb:.8f}, F1 Score={f1_xgb:.8f}, Time={time_xgb:.8f}s')\n",
        "\n"
      ],
      "metadata": {
        "id": "PSsaZ021wG8h",
        "colab": {
          "base_uri": "https://localhost:8080/"
        },
        "outputId": "fbcc213f-3598-4c0e-f06f-b46af81f30b2"
      },
      "execution_count": null,
      "outputs": [
        {
          "output_type": "stream",
          "name": "stderr",
          "text": [
            "/usr/local/lib/python3.10/dist-packages/xgboost/core.py:158: UserWarning: [09:03:38] WARNING: /workspace/src/learner.cc:740: \n",
            "Parameters: { \"use_label_encoder\" } are not used.\n",
            "\n",
            "  warnings.warn(smsg, UserWarning)\n"
          ]
        },
        {
          "output_type": "stream",
          "name": "stdout",
          "text": [
            "Decision Tree: Accuracy=0.99869239, Precision=0.99869236, Recall=0.99869239, F1 Score=0.99869238, Time=0.18733382s\n",
            "Random Forest: Accuracy=0.99841899, Precision=0.99841875, Recall=0.99841899, F1 Score=0.99841875, Time=7.86246586s\n",
            "XGBoost: Accuracy=0.99904604, Precision=0.99904657, Recall=0.99904604, F1 Score=0.99904619, Time=0.97492003s\n"
          ]
        }
      ]
    },
    {
      "cell_type": "markdown",
      "source": [
        "# Visualization and Plotting"
      ],
      "metadata": {
        "id": "d2UKHTY3wEBP"
      }
    },
    {
      "cell_type": "code",
      "source": [
        "plt.figure(figsize=(16, 8))\n",
        "\n",
        "# Subplot 1: Standard ROC Curve\n",
        "plt.subplot(1, 2, 1)\n",
        "plt.plot(fpr_dt, tpr_dt, label=f'Decision Tree (AUC = {roc_auc_dt:.8f})', lw=2, marker='o')\n",
        "plt.plot(fpr_rf, tpr_rf, label=f'Random Forest (AUC = {roc_auc_rf:.8f})', lw=2, marker='s')\n",
        "plt.plot(fpr_xgb, tpr_xgb, label=f'XGBoost (AUC = {roc_auc_xgb:.8f})', lw=2, marker='^')\n",
        "plt.plot([0, 1], [0, 1], 'k--', lw=2)\n",
        "\n",
        "plt.xlim([0.0, 1.0])\n",
        "plt.ylim([0.0, 1.05])\n",
        "plt.xlabel('False Positive Rate')\n",
        "plt.ylabel('True Positive Rate')\n",
        "plt.title('ROC Curve')\n",
        "plt.legend(loc=\"lower right\")\n",
        "\n",
        "# Subplot 2: Zoomed-In ROC Curve\n",
        "plt.subplot(1, 2, 2)\n",
        "plt.plot(fpr_dt, tpr_dt, label=f'Decision Tree (AUC = {roc_auc_dt:.8f})', lw=2, marker='o')\n",
        "plt.plot(fpr_rf, tpr_rf, label=f'Random Forest (AUC = {roc_auc_rf:.8f})', lw=2, marker='s')\n",
        "plt.plot(fpr_xgb, tpr_xgb, label=f'XGBoost (AUC = {roc_auc_xgb:.8f})', lw=2, marker='^')\n",
        "plt.plot([0, 1], [0, 1], 'k--', lw=2)\n",
        "\n",
        "# Zooming in on the top-left corner\n",
        "plt.xlim([0.0, 0.01])\n",
        "plt.ylim([0.95, 1.05])\n",
        "plt.xlabel('False Positive Rate')\n",
        "plt.ylabel('True Positive Rate')\n",
        "plt.title('ROC Curve (Zoomed on top left)')\n",
        "plt.legend(loc=\"lower right\")\n",
        "\n",
        "plt.tight_layout()\n",
        "plt.show()"
      ],
      "metadata": {
        "id": "PWxPgGoiwAEz",
        "colab": {
          "base_uri": "https://localhost:8080/"
        },
        "outputId": "8bbbabd0-88db-4b73-a276-f842f3270b03"
      },
      "execution_count": null,
      "outputs": [
        {
          "output_type": "display_data",
          "data": {
            "text/plain": [
              "<Figure size 1600x800 with 2 Axes>"
            ],
            "image/png": "[encoded data removed]"
          },
          "metadata": {}
        }
      ]
    },
    {
      "cell_type": "code",
      "source": [
        "# Function to plot the reliability curve\n",
        "def plot_reliability_curve(y_test, y_prob, model_name):\n",
        "    fraction_of_positives, mean_predicted_value = calibration_curve(y_test, y_prob, n_bins=10)\n",
        "    plt.plot(mean_predicted_value, fraction_of_positives, \"s-\", label=f\"{model_name}\")\n",
        "\n",
        "# Get predicted probabilities\n",
        "y_prob_dt = decision_tree.predict_proba(X_test)[:, 1]\n",
        "y_prob_rf = random_forest.predict_proba(X_test)[:, 1]\n",
        "y_prob_xgb = xgboost.predict_proba(X_test)[:, 1]\n",
        "\n",
        "# Plot the reliability curve\n",
        "plt.figure(figsize=(8, 8))\n",
        "plot_reliability_curve(y_test, y_prob_dt, f\"DecisionTree (AUC = {roc_auc_dt:.8f})\")\n",
        "plot_reliability_curve(y_test, y_prob_rf, f\"RandomForest (AUC = {roc_auc_rf:.8f})\")\n",
        "plot_reliability_curve(y_test, y_prob_xgb, f\"XGBoost (AUC = {roc_auc_xgb:.8f})\")\n",
        "\n",
        "# Reference line\n",
        "plt.plot([0, 1], [0, 1], \"k--\", label=\"Perfectly calibrated\")\n",
        "\n",
        "plt.xlabel(\"Mean predicted probability\")\n",
        "plt.ylabel(\"Fraction of positives\")\n",
        "plt.title(\"Reliability (Calibration) Curve\")\n",
        "plt.legend(loc=\"best\")\n",
        "plt.show()"
      ],
      "metadata": {
        "id": "W4uy5RHkwmoX",
        "colab": {
          "base_uri": "https://localhost:8080/",
          "height": 349
        },
        "outputId": "a75e3024-44fe-47e2-e6cf-3473f97dbc81"
      },
      "execution_count": null,
      "outputs": [
        {
          "output_type": "error",
          "ename": "NameError",
          "evalue": "name 'calibration_curve' is not defined",
          "traceback": [
            "\u001b[0;31m---------------------------------------------------------------------------\u001b[0m",
            "\u001b[0;31mNameError\u001b[0m                                 Traceback (most recent call last)",
            "\u001b[0;32m<ipython-input-25-e77b203bdb64>\u001b[0m in \u001b[0;36m<cell line: 13>\u001b[0;34m()\u001b[0m\n\u001b[1;32m     11\u001b[0m \u001b[0;31m# Plot the reliability curve\u001b[0m\u001b[0;34m\u001b[0m\u001b[0;34m\u001b[0m\u001b[0m\n\u001b[1;32m     12\u001b[0m \u001b[0mplt\u001b[0m\u001b[0;34m.\u001b[0m\u001b[0mfigure\u001b[0m\u001b[0;34m(\u001b[0m\u001b[0mfigsize\u001b[0m\u001b[0;34m=\u001b[0m\u001b[0;34m(\u001b[0m\u001b[0;36m8\u001b[0m\u001b[0;34m,\u001b[0m \u001b[0;36m8\u001b[0m\u001b[0;34m)\u001b[0m\u001b[0;34m)\u001b[0m\u001b[0;34m\u001b[0m\u001b[0;34m\u001b[0m\u001b[0m\n\u001b[0;32m---> 13\u001b[0;31m \u001b[0mplot_reliability_curve\u001b[0m\u001b[0;34m(\u001b[0m\u001b[0my_test\u001b[0m\u001b[0;34m,\u001b[0m \u001b[0my_prob_dt\u001b[0m\u001b[0;34m,\u001b[0m \u001b[0;34mf\"DecisionTree (AUC = {roc_auc_dt:.8f})\"\u001b[0m\u001b[0;34m)\u001b[0m\u001b[0;34m\u001b[0m\u001b[0;34m\u001b[0m\u001b[0m\n\u001b[0m\u001b[1;32m     14\u001b[0m \u001b[0mplot_reliability_curve\u001b[0m\u001b[0;34m(\u001b[0m\u001b[0my_test\u001b[0m\u001b[0;34m,\u001b[0m \u001b[0my_prob_rf\u001b[0m\u001b[0;34m,\u001b[0m \u001b[0;34mf\"RandomForest (AUC = {roc_auc_rf:.8f})\"\u001b[0m\u001b[0;34m)\u001b[0m\u001b[0;34m\u001b[0m\u001b[0;34m\u001b[0m\u001b[0m\n\u001b[1;32m     15\u001b[0m \u001b[0mplot_reliability_curve\u001b[0m\u001b[0;34m(\u001b[0m\u001b[0my_test\u001b[0m\u001b[0;34m,\u001b[0m \u001b[0my_prob_xgb\u001b[0m\u001b[0;34m,\u001b[0m \u001b[0;34mf\"XGBoost (AUC = {roc_auc_xgb:.8f})\"\u001b[0m\u001b[0;34m)\u001b[0m\u001b[0;34m\u001b[0m\u001b[0;34m\u001b[0m\u001b[0m\n",
            "\u001b[0;32m<ipython-input-25-e77b203bdb64>\u001b[0m in \u001b[0;36mplot_reliability_curve\u001b[0;34m(y_test, y_prob, model_name)\u001b[0m\n\u001b[1;32m      1\u001b[0m \u001b[0;31m# Function to plot the reliability curve\u001b[0m\u001b[0;34m\u001b[0m\u001b[0;34m\u001b[0m\u001b[0m\n\u001b[1;32m      2\u001b[0m \u001b[0;32mdef\u001b[0m \u001b[0mplot_reliability_curve\u001b[0m\u001b[0;34m(\u001b[0m\u001b[0my_test\u001b[0m\u001b[0;34m,\u001b[0m \u001b[0my_prob\u001b[0m\u001b[0;34m,\u001b[0m \u001b[0mmodel_name\u001b[0m\u001b[0;34m)\u001b[0m\u001b[0;34m:\u001b[0m\u001b[0;34m\u001b[0m\u001b[0;34m\u001b[0m\u001b[0m\n\u001b[0;32m----> 3\u001b[0;31m     \u001b[0mfraction_of_positives\u001b[0m\u001b[0;34m,\u001b[0m \u001b[0mmean_predicted_value\u001b[0m \u001b[0;34m=\u001b[0m \u001b[0mcalibration_curve\u001b[0m\u001b[0;34m(\u001b[0m\u001b[0my_test\u001b[0m\u001b[0;34m,\u001b[0m \u001b[0my_prob\u001b[0m\u001b[0;34m,\u001b[0m \u001b[0mn_bins\u001b[0m\u001b[0;34m=\u001b[0m\u001b[0;36m10\u001b[0m\u001b[0;34m)\u001b[0m\u001b[0;34m\u001b[0m\u001b[0;34m\u001b[0m\u001b[0m\n\u001b[0m\u001b[1;32m      4\u001b[0m     \u001b[0mplt\u001b[0m\u001b[0;34m.\u001b[0m\u001b[0mplot\u001b[0m\u001b[0;34m(\u001b[0m\u001b[0mmean_predicted_value\u001b[0m\u001b[0;34m,\u001b[0m \u001b[0mfraction_of_positives\u001b[0m\u001b[0;34m,\u001b[0m \u001b[0;34m\"s-\"\u001b[0m\u001b[0;34m,\u001b[0m \u001b[0mlabel\u001b[0m\u001b[0;34m=\u001b[0m\u001b[0;34mf\"{model_name}\"\u001b[0m\u001b[0;34m)\u001b[0m\u001b[0;34m\u001b[0m\u001b[0;34m\u001b[0m\u001b[0m\n\u001b[1;32m      5\u001b[0m \u001b[0;34m\u001b[0m\u001b[0m\n",
            "\u001b[0;31mNameError\u001b[0m: name 'calibration_curve' is not defined"
          ]
        },
        {
          "output_type": "display_data",
          "data": {
            "text/plain": [
              "<Figure size 800x800 with 0 Axes>"
            ]
          },
          "metadata": {}
        }
      ]
    },
    {
      "cell_type": "code",
      "source": [
        "from sklearn.metrics import precision_recall_curve\n",
        "\n",
        "# Calculate precision-recall curve\n",
        "precision_dt, recall_dt, _ = precision_recall_curve(y_test, y_prob_dt)\n",
        "precision_rf, recall_rf, _ = precision_recall_curve(y_test, y_prob_rf)\n",
        "precision_xgb, recall_xgb, _ = precision_recall_curve(y_test, y_prob_xgb)\n",
        "\n",
        "# Plot the standard Precision-Recall curve\n",
        "plt.figure(figsize=(16, 8))\n",
        "\n",
        "# Subplot 1: Standard Precision-Recall Curve\n",
        "plt.subplot(1, 2, 1)\n",
        "plt.plot(recall_dt, precision_dt, label=f'Decision Tree (AUC = {roc_auc_dt:.8f})', lw=2, marker='o')\n",
        "plt.plot(recall_rf, precision_rf, label=f'Random Forest (AUC = {roc_auc_rf:.8f})', lw=2, marker='s')\n",
        "plt.plot(recall_xgb, precision_xgb, label=f'XGBoost (AUC = {roc_auc_xgb:.8f})', lw=2, marker='^')\n",
        "plt.xlabel('Recall')\n",
        "plt.ylabel('Precision')\n",
        "plt.title('Precision-Recall Curve')\n",
        "plt.legend(loc=\"best\")\n",
        "\n",
        "# Subplot 2: Zoomed-In Precision-Recall Curve\n",
        "plt.subplot(1, 2, 2)\n",
        "plt.plot(recall_dt, precision_dt, label=f'Decision Tree (AUC = {roc_auc_dt:.8f})', lw=2, marker='o')\n",
        "plt.plot(recall_rf, precision_rf, label=f'Random Forest (AUC = {roc_auc_rf:.8f})', lw=2, marker='s')\n",
        "plt.plot(recall_xgb, precision_xgb, label=f'XGBoost (AUC = {roc_auc_xgb:.8f})', lw=2, marker='^')\n",
        "\n",
        "# Zoom in on the top-right corner\n",
        "plt.xlim([0.8, 1.0])\n",
        "plt.ylim([0.8, 1.0])\n",
        "plt.xlabel('Recall')\n",
        "plt.ylabel('Precision')\n",
        "plt.title('Precision-Recall Curve (Zoomed on top right)')\n",
        "plt.legend(loc=\"best\")\n",
        "\n",
        "plt.tight_layout()\n",
        "plt.show()"
      ],
      "metadata": {
        "id": "WqSQA8zzwnaT"
      },
      "execution_count": null,
      "outputs": []
    },
    {
      "cell_type": "code",
      "source": [
        "from sklearn.metrics import confusion_matrix, ConfusionMatrixDisplay\n",
        "\n",
        "y_pred_dt = decision_tree.predict(X_test)\n",
        "\n",
        "cm_dt = confusion_matrix(y_test, y_pred_dt)\n",
        "\n",
        "disp_dt = ConfusionMatrixDisplay(confusion_matrix=cm_dt)\n",
        "disp_dt.plot(cmap=plt.cm.Blues)\n",
        "plt.title('Confusion Matrix: Decision Tree')\n",
        "plt.show()\n"
      ],
      "metadata": {
        "id": "WefpaxHDrR1t"
      },
      "execution_count": null,
      "outputs": []
    },
    {
      "cell_type": "code",
      "source": [
        "from sklearn.metrics import confusion_matrix, ConfusionMatrixDisplay\n",
        "\n",
        "y_pred_xgb = xgboost.predict(X_test)\n",
        "\n",
        "cm_xgb = confusion_matrix(y_test, y_pred_xgb)\n",
        "\n",
        "disp_xgb = ConfusionMatrixDisplay(confusion_matrix=cm_xgb)\n",
        "disp_xgb.plot(cmap=plt.cm.Blues)\n",
        "plt.title(\"Confusion Matrix for XGBoost\")\n",
        "plt.show()\n"
      ],
      "metadata": {
        "id": "F0FmhFVuvVJZ"
      },
      "execution_count": null,
      "outputs": []
    },
    {
      "cell_type": "code",
      "source": [
        "from sklearn.ensemble import RandomForestClassifier\n",
        "from sklearn.metrics import confusion_matrix, ConfusionMatrixDisplay\n",
        "\n",
        "y_pred_rf = random_forest.predict(X_test)\n",
        "\n",
        "cm_rf = confusion_matrix(y_test, y_pred_rf)\n",
        "\n",
        "disp_rf = ConfusionMatrixDisplay(confusion_matrix=cm_rf)\n",
        "disp_rf.plot(cmap=plt.cm.Blues)\n",
        "plt.title(\"Confusion Matrix for Random Forest\")\n",
        "plt.show()\n"
      ],
      "metadata": {
        "id": "7DwMR5FjwQG2"
      },
      "execution_count": null,
      "outputs": []
    }
  ]
}